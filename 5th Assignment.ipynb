{
 "cells": [
  {
   "cell_type": "code",
   "execution_count": null,
   "id": "3d70df30-4015-4efe-905d-c0ff075e77b7",
   "metadata": {},
   "outputs": [],
   "source": [
    "                                               Assignment:-5"
   ]
  },
  {
   "cell_type": "code",
   "execution_count": null,
   "id": "e4d0945d-a388-49fb-a894-b66f125e98e5",
   "metadata": {},
   "outputs": [],
   "source": [
    "1) Create a python program to sort the given list of tuples based on integer value using a \n",
    "   lambda function. \n",
    "    [('Sachin Tendulkar', 34357), ('Ricky Ponting', 27483), ('Jack Kallis', 25534), ('Virat Kohli', 24936)]"
   ]
  },
  {
   "cell_type": "code",
   "execution_count": 29,
   "id": "b4332fb0-5c78-487d-bfa7-dd189551c059",
   "metadata": {},
   "outputs": [
    {
     "name": "stdout",
     "output_type": "stream",
     "text": [
      "Original List: [('Sachin Tendulkar', 34357), ('Ricky Ponting', 27483), ('Jack Kallis', 25534), ('Virat Kohli', 24936)]\n",
      "Sorted List: [('Virat Kohli', 24936), ('Jack Kallis', 25534), ('Ricky Ponting', 27483), ('Sachin Tendulkar', 34357)]\n"
     ]
    }
   ],
   "source": [
    "# List of tuples\n",
    "cricket_players = [('Sachin Tendulkar', 34357), ('Ricky Ponting', 27483), ('Jack Kallis', 25534), ('Virat Kohli', 24936)]\n",
    "\n",
    "# Sorting based on the second element of each tuple (index 1)\n",
    "sorted_players = sorted(cricket_players, key=lambda x: x[1])\n",
    "\n",
    "# Displaying the sorted list\n",
    "print(\"Original List:\", cricket_players)\n",
    "print(\"Sorted List:\", sorted_players)"
   ]
  },
  {
   "cell_type": "code",
   "execution_count": null,
   "id": "a6c39476-1237-416d-aa7a-d9c3cd4e27c4",
   "metadata": {},
   "outputs": [],
   "source": [
    "2) Write a Python Program to find the squares of all the numbers in the given list of integers using \n",
    "   lambda and map functions.\n",
    "[1, 2, 3, 4, 5, 6, 7, 8, 9, 10]"
   ]
  },
  {
   "cell_type": "code",
   "execution_count": 30,
   "id": "11656266-090a-42df-8f42-2b38f6722b29",
   "metadata": {},
   "outputs": [
    {
     "name": "stdout",
     "output_type": "stream",
     "text": [
      "Original List: [1, 2, 3, 4, 5, 6, 7, 8, 9, 10]\n",
      "Squares: [1, 4, 9, 16, 25, 36, 49, 64, 81, 100]\n"
     ]
    }
   ],
   "source": [
    "# List of integers\n",
    "numbers = [1, 2, 3, 4, 5, 6, 7, 8, 9, 10]\n",
    "\n",
    "# Using map and lambda to find squares\n",
    "squares = list(map(lambda x: x**2, numbers))\n",
    "\n",
    "# Displaying the squares\n",
    "print(\"Original List:\", numbers)\n",
    "print(\"Squares:\", squares)\n"
   ]
  },
  {
   "cell_type": "code",
   "execution_count": null,
   "id": "376ae906-43c7-4141-8822-d50b3ab2709a",
   "metadata": {},
   "outputs": [],
   "source": [
    "3)  Write a python program to convert the given list of integers into a tuple of strings. Use map and \n",
    "    lambda functions\n",
    "    Given String: [1, 2, 3, 4, 5, 6, 7, 8, 9, 10]\n",
    "    Expected output: ('1', '2', '3', '4', '5', '6', '7', '8', '9', '10')"
   ]
  },
  {
   "cell_type": "code",
   "execution_count": 31,
   "id": "cbf647b0-c6e2-4f39-8978-67dc729e6285",
   "metadata": {},
   "outputs": [
    {
     "name": "stdout",
     "output_type": "stream",
     "text": [
      "Original List: [1, 2, 3, 4, 5, 6, 7, 8, 9, 10]\n",
      "Tuple of Strings: ('1', '2', '3', '4', '5', '6', '7', '8', '9', '10')\n"
     ]
    }
   ],
   "source": [
    "# List of integers\n",
    "numbers = [1, 2, 3, 4, 5, 6, 7, 8, 9, 10]\n",
    "\n",
    "# Using map and lambda to convert integers to strings\n",
    "string_tuple = tuple(map(lambda x: str(x), numbers))\n",
    "\n",
    "# Displaying the tuple of strings\n",
    "print(\"Original List:\", numbers)\n",
    "print(\"Tuple of Strings:\", string_tuple)\n"
   ]
  },
  {
   "cell_type": "code",
   "execution_count": null,
   "id": "8c662204-ebb6-4ce9-960b-a5c26ec5747a",
   "metadata": {},
   "outputs": [],
   "source": [
    "4)  Write a python program using reduce function to compute the product of a list containing numbers \n",
    "    from 1 to 25."
   ]
  },
  {
   "cell_type": "code",
   "execution_count": 32,
   "id": "7a40d294-48d3-4b36-86f9-ede7a5835789",
   "metadata": {},
   "outputs": [
    {
     "name": "stdout",
     "output_type": "stream",
     "text": [
      "List of Numbers: [1, 2, 3, 4, 5, 6, 7, 8, 9, 10, 11, 12, 13, 14, 15, 16, 17, 18, 19, 20, 21, 22, 23, 24, 25]\n",
      "Product: 15511210043330985984000000\n"
     ]
    }
   ],
   "source": [
    "from functools import reduce\n",
    "\n",
    "# Create a list containing numbers from 1 to 25\n",
    "numbers = list(range(1, 26))\n",
    "\n",
    "# Use reduce and lambda to compute the product of the list\n",
    "product = reduce(lambda x, y: x * y, numbers)\n",
    "\n",
    "# Displaying the product\n",
    "print(\"List of Numbers:\", numbers)\n",
    "print(\"Product:\", product)\n"
   ]
  },
  {
   "cell_type": "code",
   "execution_count": null,
   "id": "bd3b9ce5-05a7-4eae-b949-49e7a7d5bc97",
   "metadata": {},
   "outputs": [],
   "source": [
    "5)  Write a python program to filter the numbers in a given list that are divisible by 2 and 3 using the  \n",
    "    filter function.\n",
    "    [2, 3, 6, 9, 27, 60, 90, 120, 55, 46]"
   ]
  },
  {
   "cell_type": "code",
   "execution_count": 33,
   "id": "0d603392-3449-4754-a6c6-231590859dc4",
   "metadata": {},
   "outputs": [
    {
     "name": "stdout",
     "output_type": "stream",
     "text": [
      "Original List: [2, 3, 6, 9, 27, 60, 90, 120, 55, 46]\n",
      "Filtered Numbers (divisible by 2 and 3): [6, 60, 90, 120]\n"
     ]
    }
   ],
   "source": [
    "# List of numbers\n",
    "numbers = [2, 3, 6, 9, 27, 60, 90, 120, 55, 46]\n",
    "\n",
    "# Use filter and lambda to filter numbers divisible by 2 and 3\n",
    "filtered_numbers = list(filter(lambda x: x % 2 == 0 and x % 3 == 0, numbers))\n",
    "\n",
    "# Displaying the filtered numbers\n",
    "print(\"Original List:\", numbers)\n",
    "print(\"Filtered Numbers (divisible by 2 and 3):\", filtered_numbers)\n"
   ]
  },
  {
   "cell_type": "code",
   "execution_count": null,
   "id": "05fc4008-469a-4c01-881b-77074408b0b2",
   "metadata": {},
   "outputs": [],
   "source": [
    "6) Write a python program to find palindromes in the given list of strings using lambda and filter \n",
    "   function.\n",
    "   ['python', 'php', 'aba', 'radar', 'level']"
   ]
  }
 ],
 "metadata": {
  "kernelspec": {
   "display_name": "Python 3 (ipykernel)",
   "language": "python",
   "name": "python3"
  },
  "language_info": {
   "codemirror_mode": {
    "name": "ipython",
    "version": 3
   },
   "file_extension": ".py",
   "mimetype": "text/x-python",
   "name": "python",
   "nbconvert_exporter": "python",
   "pygments_lexer": "ipython3",
   "version": "3.10.8"
  }
 },
 "nbformat": 4,
 "nbformat_minor": 5
}
